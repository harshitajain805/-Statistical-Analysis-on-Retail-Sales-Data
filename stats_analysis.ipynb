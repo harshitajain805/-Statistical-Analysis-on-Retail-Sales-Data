{
 "cells": [
  {
   "cell_type": "code",
   "execution_count": 13,
   "id": "afa627fb-74d2-4a3e-b268-25c8acd2842b",
   "metadata": {},
   "outputs": [
    {
     "data": {
      "text/plain": [
       "     Store        Type                Size       \n",
       " Min.   : 1   Length:45          Min.   : 34875  \n",
       " 1st Qu.:12   Class :character   1st Qu.: 70713  \n",
       " Median :23   Mode  :character   Median :126512  \n",
       " Mean   :23                      Mean   :130288  \n",
       " 3rd Qu.:34                      3rd Qu.:202307  \n",
       " Max.   :45                      Max.   :219622  "
      ]
     },
     "metadata": {},
     "output_type": "display_data"
    },
    {
     "data": {
      "text/plain": [
       "     Store        Date            Temperature       Fuel_Price   \n",
       " Min.   : 1   Length:8190        Min.   : -7.29   Min.   :2.472  \n",
       " 1st Qu.:12   Class :character   1st Qu.: 45.90   1st Qu.:3.041  \n",
       " Median :23   Mode  :character   Median : 60.71   Median :3.513  \n",
       " Mean   :23                      Mean   : 59.36   Mean   :3.406  \n",
       " 3rd Qu.:34                      3rd Qu.: 73.88   3rd Qu.:3.743  \n",
       " Max.   :45                      Max.   :101.95   Max.   :4.468  \n",
       "                                                                 \n",
       "   MarkDown1        MarkDown2           MarkDown3           MarkDown4       \n",
       " Min.   : -2781   Min.   :  -265.76   Min.   :  -179.26   Min.   :    0.22  \n",
       " 1st Qu.:  1578   1st Qu.:    68.88   1st Qu.:     6.60   1st Qu.:  304.69  \n",
       " Median :  4744   Median :   364.57   Median :    36.26   Median : 1176.42  \n",
       " Mean   :  7032   Mean   :  3384.18   Mean   :  1760.10   Mean   : 3292.94  \n",
       " 3rd Qu.:  8923   3rd Qu.:  2153.35   3rd Qu.:   163.15   3rd Qu.: 3310.01  \n",
       " Max.   :103185   Max.   :104519.54   Max.   :149483.31   Max.   :67474.85  \n",
       " NA's   :4158     NA's   :5269        NA's   :4577        NA's   :4726      \n",
       "   MarkDown5             CPI         Unemployment    IsHoliday      \n",
       " Min.   :  -185.2   Min.   :126.1   Min.   : 3.684   Mode :logical  \n",
       " 1st Qu.:  1440.8   1st Qu.:132.4   1st Qu.: 6.634   FALSE:7605     \n",
       " Median :  2727.1   Median :182.8   Median : 7.806   TRUE :585      \n",
       " Mean   :  4132.2   Mean   :172.5   Mean   : 7.827                  \n",
       " 3rd Qu.:  4832.6   3rd Qu.:213.9   3rd Qu.: 8.567                  \n",
       " Max.   :771448.1   Max.   :229.0   Max.   :14.313                  \n",
       " NA's   :4140       NA's   :585     NA's   :585                     "
      ]
     },
     "metadata": {},
     "output_type": "display_data"
    },
    {
     "data": {
      "text/plain": [
       "     Store           Dept           Date            Weekly_Sales   \n",
       " Min.   : 1.0   Min.   : 1.00   Length:421570      Min.   : -4989  \n",
       " 1st Qu.:11.0   1st Qu.:18.00   Class :character   1st Qu.:  2080  \n",
       " Median :22.0   Median :37.00   Mode  :character   Median :  7612  \n",
       " Mean   :22.2   Mean   :44.26                      Mean   : 15981  \n",
       " 3rd Qu.:33.0   3rd Qu.:74.00                      3rd Qu.: 20206  \n",
       " Max.   :45.0   Max.   :99.00                      Max.   :693099  \n",
       "  Holiday       \n",
       " Mode :logical  \n",
       " FALSE:391909   \n",
       " TRUE :29661    \n",
       "                \n",
       "                \n",
       "                "
      ]
     },
     "metadata": {},
     "output_type": "display_data"
    },
    {
     "data": {
      "text/plain": [
       "     Store           Dept            Date             Weekly_Sales   \n",
       " Min.   : 1.0   Min.   : 1.00   Min.   :0001-04-20   Min.   : -4989  \n",
       " 1st Qu.:11.0   1st Qu.:18.00   1st Qu.:0008-07-20   1st Qu.:  2080  \n",
       " Median :22.0   Median :37.00   Median :0016-04-20   Median :  7612  \n",
       " Mean   :22.2   Mean   :44.26   Mean   :0016-03-06   Mean   : 15981  \n",
       " 3rd Qu.:33.0   3rd Qu.:74.00   3rd Qu.:0023-12-20   3rd Qu.: 20206  \n",
       " Max.   :45.0   Max.   :99.00   Max.   :0031-12-20   Max.   :693099  \n",
       "                                                                     \n",
       "  Holiday         Temperature       Fuel_Price      MarkDown1       \n",
       " Mode :logical   Min.   : -2.06   Min.   :2.472   Min.   :    0.27  \n",
       " FALSE:391909    1st Qu.: 46.68   1st Qu.:2.933   1st Qu.: 2240.27  \n",
       " TRUE :29661     Median : 62.09   Median :3.452   Median : 5347.45  \n",
       "                 Mean   : 60.09   Mean   :3.361   Mean   : 7246.42  \n",
       "                 3rd Qu.: 74.28   3rd Qu.:3.738   3rd Qu.: 9210.90  \n",
       "                 Max.   :100.14   Max.   :4.468   Max.   :88646.76  \n",
       "                                                  NA's   :270889    \n",
       "   MarkDown2          MarkDown3           MarkDown4          MarkDown5       \n",
       " Min.   :  -265.8   Min.   :   -29.10   Min.   :    0.22   Min.   :   135.2  \n",
       " 1st Qu.:    41.6   1st Qu.:     5.08   1st Qu.:  504.22   1st Qu.:  1878.4  \n",
       " Median :   192.0   Median :    24.60   Median : 1481.31   Median :  3359.4  \n",
       " Mean   :  3334.6   Mean   :  1439.42   Mean   : 3383.17   Mean   :  4629.0  \n",
       " 3rd Qu.:  1926.9   3rd Qu.:   103.99   3rd Qu.: 3595.04   3rd Qu.:  5563.8  \n",
       " Max.   :104519.5   Max.   :141630.61   Max.   :67474.85   Max.   :108519.3  \n",
       " NA's   :310322     NA's   :284479      NA's   :286603     NA's   :270138    \n",
       "      CPI         Unemployment    IsHoliday           Type          \n",
       " Min.   :126.1   Min.   : 3.879   Mode :logical   Length:421570     \n",
       " 1st Qu.:132.0   1st Qu.: 6.891   FALSE:391909    Class :character  \n",
       " Median :182.3   Median : 7.866   TRUE :29661     Mode  :character  \n",
       " Mean   :171.2   Mean   : 7.960                                     \n",
       " 3rd Qu.:212.4   3rd Qu.: 8.572                                     \n",
       " Max.   :227.2   Max.   :14.313                                     \n",
       "                                                                    \n",
       "      Size       \n",
       " Min.   : 34875  \n",
       " 1st Qu.: 93638  \n",
       " Median :140167  \n",
       " Mean   :136728  \n",
       " 3rd Qu.:202505  \n",
       " Max.   :219622  \n",
       "                 "
      ]
     },
     "metadata": {},
     "output_type": "display_data"
    },
    {
     "data": {
      "image/png": "[encoded data removed]",
      "text/plain": [
       "plot without title"
      ]
     },
     "metadata": {
      "image/png": {
       "height": 420,
       "width": 420
      }
     },
     "output_type": "display_data"
    },
    {
     "name": "stdout",
     "output_type": "stream",
     "text": [
      "\u001b[90m# A tibble: 2 x 2\u001b[39m\n",
      "  IsHoliday mean_sales\n",
      "  \u001b[3m\u001b[90m<lgl>\u001b[39m\u001b[23m          \u001b[3m\u001b[90m<dbl>\u001b[39m\u001b[23m\n",
      "\u001b[90m1\u001b[39m FALSE         \u001b[4m1\u001b[24m\u001b[4m5\u001b[24m901.\n",
      "\u001b[90m2\u001b[39m TRUE          \u001b[4m1\u001b[24m\u001b[4m7\u001b[24m036.\n",
      "\n",
      "\tWelch Two Sample t-test\n",
      "\n",
      "data:  Weekly_Sales by IsHoliday\n",
      "t = -7.0007, df = 32752, p-value = 2.595e-12\n",
      "alternative hypothesis: true difference in means between group FALSE and group TRUE is not equal to 0\n",
      "95 percent confidence interval:\n",
      " -1451.9763  -816.7799\n",
      "sample estimates:\n",
      "mean in group FALSE  mean in group TRUE \n",
      "           15901.45            17035.82 \n",
      "\n"
     ]
    },
    {
     "data": {
      "text/plain": [
       "\n",
       "Call:\n",
       "lm(formula = Weekly_Sales ~ MarkDown1 + MarkDown2 + MarkDown3 + \n",
       "    MarkDown4 + MarkDown5 + IsHoliday, data = merged_data)\n",
       "\n",
       "Residuals:\n",
       "   Min     1Q Median     3Q    Max \n",
       "-40424 -14648  -8979   4902 591148 \n",
       "\n",
       "Coefficients:\n",
       "                Estimate Std. Error t value Pr(>|t|)    \n",
       "(Intercept)    1.527e+04  1.351e+02 113.020  < 2e-16 ***\n",
       "MarkDown1      1.309e-01  1.539e-02   8.509  < 2e-16 ***\n",
       "MarkDown2      7.208e-02  8.614e-03   8.369  < 2e-16 ***\n",
       "MarkDown3      1.850e-01  8.209e-03  22.538  < 2e-16 ***\n",
       "MarkDown4     -3.553e-02  1.976e-02  -1.798   0.0722 .  \n",
       "MarkDown5      2.192e-01  1.219e-02  17.983  < 2e-16 ***\n",
       "IsHolidayTRUE -1.889e+03  3.150e+02  -5.995 2.04e-09 ***\n",
       "---\n",
       "Signif. codes:  0 '***' 0.001 '**' 0.01 '*' 0.05 '.' 0.1 ' ' 1\n",
       "\n",
       "Residual standard error: 24610 on 97049 degrees of freedom\n",
       "  (324514 observations deleted due to missingness)\n",
       "Multiple R-squared:  0.01027,\tAdjusted R-squared:  0.01021 \n",
       "F-statistic: 167.9 on 6 and 97049 DF,  p-value: < 2.2e-16\n"
      ]
     },
     "metadata": {},
     "output_type": "display_data"
    },
    {
     "data": {
      "image/png": "[encoded data removed]",
      "text/plain": [
       "plot without title"
      ]
     },
     "metadata": {
      "image/png": {
       "height": 420,
       "width": 420
      }
     },
     "output_type": "display_data"
    },
    {
     "name": "stdout",
     "output_type": "stream",
     "text": [
      "[1] \"Reject the null hypothesis: There is a significant difference in sales during holiday weeks.\"\n",
      "[1] \"Reject the null hypothesis: Markdowns have a significant effect on sales.\"\n"
     ]
    },
    {
     "data": {
      "image/png": "[encoded data removed]",
      "text/plain": [
       "Plot with title \"\""
      ]
     },
     "metadata": {
      "image/png": {
       "height": 420,
       "width": 420
      }
     },
     "output_type": "display_data"
    }
   ],
   "source": [
    "# Load necessary libraries\n",
    "library(dplyr)\n",
    "library(ggplot2)\n",
    "library(tidyr)\n",
    "library(lubridate)\n",
    "\n",
    "# Set the working directory (change this to your directory)\n",
    "setwd(\"C:/Users/srushti kulkarni/Downloads/archive\")\n",
    "\n",
    "# Load the datasets\n",
    "stores <- read.csv(\"stores data-set.csv\")\n",
    "features <- read.csv(\"Features data set.csv\")\n",
    "sales <- read.csv(\"sales data-set.csv\")\n",
    "\n",
    "\n",
    "# Data Cleaning\n",
    "# Check for missing values\n",
    "summary(stores)\n",
    "summary(features)\n",
    "summary(sales)\n",
    "\n",
    "# Remove any rows with NA values in sales\n",
    "sales <- na.omit(sales)\n",
    "\n",
    "# Convert date columns to Date type\n",
    "sales$Date <- as.Date(sales$Date)\n",
    "features$Date <- as.Date(features$Date)\n",
    "\n",
    "# Merge datasets\n",
    "merged_data <- sales %>%\n",
    "  left_join(features, by = c(\"Store\", \"Date\")) %>%\n",
    "  left_join(stores, by = \"Store\")\n",
    "\n",
    "# Check if 'IsHoliday' exists in merged_data\n",
    "if(!\"Holiday\" %in% colnames(merged_data)) {\n",
    "  stop(\"IsHoliday column not found in merged_data.\")\n",
    "}\n",
    "\n",
    "# Exploratory Data Analysis (EDA)\n",
    "\n",
    "## Summary Statistics\n",
    "summary(merged_data)\n",
    "\n",
    "## Visualizations\n",
    "# Sales over time\n",
    "ggplot(data = merged_data, aes(x = Date, y = Weekly_Sales)) +\n",
    "  geom_line() +\n",
    "  labs(title = \"Weekly Sales Over Time\", x = \"Date\", y = \"Weekly Sales\") +\n",
    "  theme_minimal()\n",
    "\n",
    "# Boxplot of sales by store type\n",
    "ggplot(data = merged_data, aes(x = Type, y = Weekly_Sales)) +\n",
    "  geom_boxplot() +\n",
    "  labs(title = \"Sales Distribution by Store Type\", x = \"Store Type\", y = \"Weekly Sales\") +\n",
    "  theme_minimal()\n",
    "\n",
    "# Hypothesis Testing\n",
    "\n",
    "## Hypothesis 1: Impact of Holiday on Sales\n",
    "# H0: There is no difference in sales during holiday weeks vs non-holiday weeks.\n",
    "# H1: There is a difference in sales during holiday weeks vs non-holiday weeks.\n",
    "\n",
    "holiday_sales <- merged_data %>%\n",
    "  group_by(IsHoliday) %>%\n",
    "  summarise(mean_sales = mean(Weekly_Sales))\n",
    "\n",
    "print(holiday_sales)\n",
    "\n",
    "t_test_result <- t.test(Weekly_Sales ~ IsHoliday, data = merged_data)\n",
    "print(t_test_result)\n",
    "\n",
    "## Hypothesis 2: Impact of Markdowns on Sales\n",
    "# H0: Markdowns have no effect on sales.\n",
    "# H1: Markdowns have an effect on sales.\n",
    "\n",
    "markdown_model <- lm(Weekly_Sales ~ MarkDown1 + MarkDown2 + MarkDown3 + MarkDown4 + MarkDown5 + IsHoliday, data = merged_data)\n",
    "summary(markdown_model)\n",
    "\n",
    "### Model Validation\n",
    "\n",
    "# Check residuals for normality and homoscedasticity\n",
    "par(mfrow=c(2,2))\n",
    "plot(markdown_model)\n",
    "\n",
    "### Conclusion and Recommendations\n",
    "\n",
    "if (t_test_result$p.value < 0.05) {\n",
    "  print(\"Reject the null hypothesis: There is a significant difference in sales during holiday weeks.\")\n",
    "} else {\n",
    "  print(\"Fail to reject the null hypothesis: No significant difference in sales during holiday weeks.\")\n",
    "}\n",
    "\n",
    "if (summary(markdown_model)$coefficients[2,4] < 0.05) {\n",
    "  print(\"Reject the null hypothesis: Markdowns have a significant effect on sales.\")\n",
    "} else {\n",
    "  print(\"Fail to reject the null hypothesis: No significant effect of markdowns on sales.\")\n",
    "}"
   ]
  },
  {
   "cell_type": "code",
   "execution_count": 14,
   "id": "cb011977-32d5-4309-9e84-d761b573b3b4",
   "metadata": {},
   "outputs": [
    {
     "data": {
      "text/plain": [
       "     Store           Dept            Date             Weekly_Sales   \n",
       " Min.   : 1.0   Min.   : 1.00   Min.   :0001-04-20   Min.   : -4989  \n",
       " 1st Qu.:11.0   1st Qu.:18.00   1st Qu.:0008-07-20   1st Qu.:  2080  \n",
       " Median :22.0   Median :37.00   Median :0016-04-20   Median :  7612  \n",
       " Mean   :22.2   Mean   :44.26   Mean   :0016-03-06   Mean   : 15981  \n",
       " 3rd Qu.:33.0   3rd Qu.:74.00   3rd Qu.:0023-12-20   3rd Qu.: 20206  \n",
       " Max.   :45.0   Max.   :99.00   Max.   :0031-12-20   Max.   :693099  \n",
       "                                                                     \n",
       "  Holiday         Temperature       Fuel_Price      MarkDown1       \n",
       " Mode :logical   Min.   : -2.06   Min.   :2.472   Min.   :    0.27  \n",
       " FALSE:391909    1st Qu.: 46.68   1st Qu.:2.933   1st Qu.: 2240.27  \n",
       " TRUE :29661     Median : 62.09   Median :3.452   Median : 5347.45  \n",
       "                 Mean   : 60.09   Mean   :3.361   Mean   : 7246.42  \n",
       "                 3rd Qu.: 74.28   3rd Qu.:3.738   3rd Qu.: 9210.90  \n",
       "                 Max.   :100.14   Max.   :4.468   Max.   :88646.76  \n",
       "                                                  NA's   :270889    \n",
       "   MarkDown2          MarkDown3           MarkDown4          MarkDown5       \n",
       " Min.   :  -265.8   Min.   :   -29.10   Min.   :    0.22   Min.   :   135.2  \n",
       " 1st Qu.:    41.6   1st Qu.:     5.08   1st Qu.:  504.22   1st Qu.:  1878.4  \n",
       " Median :   192.0   Median :    24.60   Median : 1481.31   Median :  3359.4  \n",
       " Mean   :  3334.6   Mean   :  1439.42   Mean   : 3383.17   Mean   :  4629.0  \n",
       " 3rd Qu.:  1926.9   3rd Qu.:   103.99   3rd Qu.: 3595.04   3rd Qu.:  5563.8  \n",
       " Max.   :104519.5   Max.   :141630.61   Max.   :67474.85   Max.   :108519.3  \n",
       " NA's   :310322     NA's   :284479      NA's   :286603     NA's   :270138    \n",
       "      CPI         Unemployment    IsHoliday           Type          \n",
       " Min.   :126.1   Min.   : 3.879   Mode :logical   Length:421570     \n",
       " 1st Qu.:132.0   1st Qu.: 6.891   FALSE:391909    Class :character  \n",
       " Median :182.3   Median : 7.866   TRUE :29661     Mode  :character  \n",
       " Mean   :171.2   Mean   : 7.960                                     \n",
       " 3rd Qu.:212.4   3rd Qu.: 8.572                                     \n",
       " Max.   :227.2   Max.   :14.313                                     \n",
       "                                                                    \n",
       "      Size       \n",
       " Min.   : 34875  \n",
       " 1st Qu.: 93638  \n",
       " Median :140167  \n",
       " Mean   :136728  \n",
       " 3rd Qu.:202505  \n",
       " Max.   :219622  \n",
       "                 "
      ]
     },
     "metadata": {},
     "output_type": "display_data"
    }
   ],
   "source": [
    "summary(merged_data)"
   ]
  },
  {
   "cell_type": "code",
   "execution_count": 15,
   "id": "216681be-6237-475a-b409-e8a2ccf6d1ac",
   "metadata": {},
   "outputs": [
    {
     "data": {
      "text/plain": [
       "\n",
       "Call:\n",
       "lm(formula = Weekly_Sales ~ MarkDown1 + MarkDown2 + MarkDown3 + \n",
       "    MarkDown4 + MarkDown5 + IsHoliday, data = merged_data)\n",
       "\n",
       "Residuals:\n",
       "   Min     1Q Median     3Q    Max \n",
       "-40424 -14648  -8979   4902 591148 \n",
       "\n",
       "Coefficients:\n",
       "                Estimate Std. Error t value Pr(>|t|)    \n",
       "(Intercept)    1.527e+04  1.351e+02 113.020  < 2e-16 ***\n",
       "MarkDown1      1.309e-01  1.539e-02   8.509  < 2e-16 ***\n",
       "MarkDown2      7.208e-02  8.614e-03   8.369  < 2e-16 ***\n",
       "MarkDown3      1.850e-01  8.209e-03  22.538  < 2e-16 ***\n",
       "MarkDown4     -3.553e-02  1.976e-02  -1.798   0.0722 .  \n",
       "MarkDown5      2.192e-01  1.219e-02  17.983  < 2e-16 ***\n",
       "IsHolidayTRUE -1.889e+03  3.150e+02  -5.995 2.04e-09 ***\n",
       "---\n",
       "Signif. codes:  0 '***' 0.001 '**' 0.01 '*' 0.05 '.' 0.1 ' ' 1\n",
       "\n",
       "Residual standard error: 24610 on 97049 degrees of freedom\n",
       "  (324514 observations deleted due to missingness)\n",
       "Multiple R-squared:  0.01027,\tAdjusted R-squared:  0.01021 \n",
       "F-statistic: 167.9 on 6 and 97049 DF,  p-value: < 2.2e-16\n"
      ]
     },
     "metadata": {},
     "output_type": "display_data"
    }
   ],
   "source": [
    "summary(markdown_model)"
   ]
  },
  {
   "cell_type": "code",
   "execution_count": null,
   "id": "53dae08f-7265-49ad-b0ad-ff61a3dbe4fb",
   "metadata": {},
   "outputs": [],
   "source": []
  }
 ],
 "metadata": {
  "kernelspec": {
   "display_name": "R",
   "language": "R",
   "name": "ir"
  },
  "language_info": {
   "codemirror_mode": "r",
   "file_extension": ".r",
   "mimetype": "text/x-r-source",
   "name": "R",
   "pygments_lexer": "r",
   "version": "4.1.3"
  }
 },
 "nbformat": 4,
 "nbformat_minor": 5
}
